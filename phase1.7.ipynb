{
 "cells": [
  {
   "cell_type": "code",
   "execution_count": 1,
   "metadata": {},
   "outputs": [],
   "source": [
    "import cv2\n",
    "import numpy as np\n",
    "import os\n",
    "import matplotlib.pyplot as plt\n",
    "from random import shuffle,randint\n",
    "from tqdm import tqdm\n",
    "from shutil import copyfile"
   ]
  },
  {
   "cell_type": "code",
   "execution_count": 51,
   "metadata": {},
   "outputs": [],
   "source": [
    "IMG_SIZE = 50\n",
    "x=0\n",
    "mask_dir = 'C:/Users/HP PC/Desktop/Folder/DeepLearning/faceBinary/processedData/mask'\n",
    "mask_dir2 = 'C:/Users/HP PC/Desktop/Folder/DeepLearning/faceBinary/Dataset/3 12k/Face Mask Dataset/Train/WithMask'\n",
    "face_dir = 'C:/Users/HP PC/Desktop/Folder/DeepLearning/faceBinary/processedData/face'\n",
    "face_dir2 = 'C:/Users/HP PC/Desktop/Folder/DeepLearning/faceBinary/Dataset/3 12k/Face Mask Dataset/Train/WithoutMask'\n",
    "val_face_dir = 'C:/Users/HP PC/Desktop/Folder/DeepLearning/faceBinary/Dataset/3 12k/Face Mask Dataset/Validation/WithoutMask'\n",
    "val_mask_dir = 'C:/Users/HP PC/Desktop/Folder/DeepLearning/faceBinary/Dataset/3 12k/Face Mask Dataset/Validation/WithMask'"
   ]
  },
  {
   "cell_type": "code",
   "execution_count": 50,
   "metadata": {},
   "outputs": [],
   "source": [
    "def Extract_Masked_data1():\n",
    "    global x\n",
    "    f_dir = 'C:/Users/HP PC/Desktop/Folder/DeepLearning/faceBinary/Dataset/1 rmfrd/AFDB_masked_face_dataset/AFDB_masked_face_dataset'\n",
    "    d_dir = mask_dir\n",
    "    for folder in tqdm(os.listdir(f_dir)):\n",
    "        path = os.path.join(f_dir,folder)\n",
    "        for img in os.listdir(path):\n",
    "            fpath = os.path.join(path,img)\n",
    "            dpath = os.path.join(d_dir,str(x)+'.jpg')\n",
    "            copyfile(fpath, dpath)\n",
    "            x+=1\n",
    "\n",
    "def Extract_Unmasked_data1():\n",
    "    global x\n",
    "    f_dir = 'C:/Users/HP PC/Desktop/Folder/DeepLearning/faceBinary/Dataset/1 rmfrd/AFDB_face_dataset/AFDB_face_dataset'\n",
    "    d_dir = face_dir\n",
    "    for folder in tqdm(os.listdir(f_dir)):\n",
    "        path = os.path.join(f_dir,folder)\n",
    "        y=0\n",
    "        for img in os.listdir(path):\n",
    "            if y>=14: # To make neural net more robust we took only 10 pictures from each person\n",
    "                break\n",
    "            if x>=4000: # extracted only 4000 unmasked imgaes because only 1400 masked images exits\n",
    "                break\n",
    "            if y%2 == 0:\n",
    "                y+=1\n",
    "                continue\n",
    "            fpath = os.path.join(path,img)\n",
    "            dpath = os.path.join(d_dir,str(x)+'.jpg')\n",
    "            copyfile(fpath, dpath)\n",
    "            x+=1\n",
    "            y+=1"
   ]
  },
  {
   "cell_type": "code",
   "execution_count": null,
   "metadata": {},
   "outputs": [],
   "source": [
    "def Extract_Masked_data2():\n",
    "    global x\n",
    "    f_dir = 'C:/Users/HP PC/Desktop/Folder/DeepLearning/faceBinary/Dataset/2/with_mask'\n",
    "    d_dir = mask_dir\n",
    "    for img in tqdm(os.listdir(f_dir)):\n",
    "        fpath = os.path.join(f_dir,img)            \n",
    "        dpath = os.path.join(d_dir,str(x)+'.png')\n",
    "        copyfile(fpath, dpath)\n",
    "        x+=1\n",
    "        \n",
    "def Extract_Unmasked_data2():\n",
    "    global x\n",
    "    f_dir = 'C:/Users/HP PC/Desktop/Folder/DeepLearning/faceBinary/Dataset/2/without_mask'\n",
    "    d_dir = face_dir\n",
    "    for img in tqdm(os.listdir(f_dir)):\n",
    "        fpath = os.path.join(f_dir,img)\n",
    "        dpath = os.path.join(d_dir,str(x)+'.png')\n",
    "        copyfile(fpath, dpath)\n",
    "        x+=1"
   ]
  },
  {
   "cell_type": "code",
   "execution_count": null,
   "metadata": {},
   "outputs": [],
   "source": [
    "def Extract_Masked_data3():\n",
    "    global x\n",
    "    f_dir = 'C:/Users/HP PC/Desktop/Folder/DeepLearning/faceBinary/Dataset/3/WithMask'\n",
    "    d_dir = mask_dir\n",
    "    for img in tqdm(os.listdir(f_dir)):\n",
    "        if 1 == randint(0,4):\n",
    "            fpath = os.path.join(f_dir,img)            \n",
    "            dpath = os.path.join(d_dir,str(x)+'.png')\n",
    "            copyfile(fpath, dpath)\n",
    "            x+=1\n",
    "        \n",
    "def Extract_Unmasked_data3():\n",
    "    global x\n",
    "    f_dir = 'C:/Users/HP PC/Desktop/Folder/DeepLearning/faceBinary/Dataset/3/WithoutMask'\n",
    "    d_dir = face_dir\n",
    "    for img in tqdm(os.listdir(f_dir)):\n",
    "        fpath = os.path.join(f_dir,img)\n",
    "        dpath = os.path.join(d_dir,str(x)+'.png')\n",
    "        copyfile(fpath, dpath)\n",
    "        x+=1"
   ]
  },
  {
   "cell_type": "code",
   "execution_count": 52,
   "metadata": {},
   "outputs": [
    {
     "name": "stderr",
     "output_type": "stream",
     "text": [
      "100%|████████████████████████████████████████████████████████████████████████████████| 460/460 [01:10<00:00,  6.48it/s]\n"
     ]
    }
   ],
   "source": [
    "Extract_Unmasked_data1()\n",
    "#Extract_Unmasked_data2()\n",
    "#Extract_Unmasked_data3()\n",
    "#Extract_Masked_data1()\n",
    "#Extract_Masked_data2()\n",
    "#Extract_Masked_data3()"
   ]
  },
  {
   "cell_type": "code",
   "execution_count": null,
   "metadata": {},
   "outputs": [],
   "source": [
    "def Extract_Unmasked_data4():\n",
    "    global x\n",
    "    f_dir = 'C:/Users/HP PC/Desktop/Folder/DeepLearning/faceBinary/Dataset/4/lfw_funneled'\n",
    "    d_dir = face_dir\n",
    "    for folder in tqdm(os.listdir(f_dir)):\n",
    "        path = os.path.join(f_dir,folder)\n",
    "        y=0\n",
    "        for img in os.listdir(path):\n",
    "            if y>=3:\n",
    "                break\n",
    "            fpath = os.path.join(path,img)\n",
    "            dpath = os.path.join(d_dir,str(x)+'.jpg')\n",
    "            copyfile(fpath, dpath)\n",
    "            x+=1\n",
    "            y+=1\n",
    "Extract_Unmasked_data4()"
   ]
  },
  {
   "cell_type": "code",
   "execution_count": 26,
   "metadata": {},
   "outputs": [],
   "source": [
    "data_npy = []\n",
    "def process_data():\n",
    "    y=0\n",
    "    for img in tqdm(os.listdir('C:/Users/HP PC/Desktop/Folder/DeepLearning/faceBinary/Dataset/3 12k/Face Mask Dataset/Train/WithMask')):\n",
    "        label = [1,0]\n",
    "        path = os.path.join('C:/Users/HP PC/Desktop/Folder/DeepLearning/faceBinary/Dataset/3 12k/Face Mask Dataset/Train/WithMask',img)\n",
    "        img = cv2.resize(cv2.imread(path,cv2.IMREAD_REDUCED_GRAYSCALE_2),(IMG_SIZE,IMG_SIZE))\n",
    "        img=img/255\n",
    "        data_npy.append([np.array(img),np.array(label)])\n",
    "        y+=1\n",
    "        \n",
    "    y=0    \n",
    "    for img in tqdm(os.listdir('C:/Users/HP PC/Desktop/Folder/DeepLearning/faceBinary/Dataset/3 12k/Face Mask Dataset/Train/WithoutMask')):\n",
    "        label = [0,1]\n",
    "        path = os.path.join('C:/Users/HP PC/Desktop/Folder/DeepLearning/faceBinary/Dataset/3 12k/Face Mask Dataset/Train/WithoutMask',img)\n",
    "        img = cv2.resize(cv2.imread(path,cv2.IMREAD_REDUCED_GRAYSCALE_2),(IMG_SIZE,IMG_SIZE))\n",
    "        img=img/255\n",
    "        data_npy.append([np.array(img),np.array(label)])\n",
    "        y+=1"
   ]
  },
  {
   "cell_type": "code",
   "execution_count": 55,
   "metadata": {},
   "outputs": [],
   "source": [
    "data_npy = []\n",
    "def process_data():\n",
    "    y=0\n",
    "    \n",
    "    for img in tqdm(os.listdir(face_dir)):\n",
    "        if y>=4000:\n",
    "            break\n",
    "        if 0 == randint(0,3) or True: \n",
    "            label = [0,1]\n",
    "            path = os.path.join(face_dir,img)\n",
    "            img = cv2.resize(cv2.imread(path,cv2.IMREAD_GRAYSCALE),(IMG_SIZE,IMG_SIZE))\n",
    "            img=img/255\n",
    "            data_npy.append([np.array(img),np.array(label)])\n",
    "            y+=1\n",
    "        \n",
    "        \n",
    "    for img in tqdm(os.listdir(mask_dir)):\n",
    "        label = [1,0]\n",
    "        path = os.path.join(mask_dir,img)\n",
    "        img = cv2.resize(cv2.imread(path,cv2.IMREAD_GRAYSCALE),(IMG_SIZE,IMG_SIZE))\n",
    "        img=img/255\n",
    "        data_npy.append([np.array(img),np.array(label)])\n",
    "        \n",
    "    \n",
    "    for img in tqdm(os.listdir(val_face_dir)):\n",
    "        label = [0,1]\n",
    "        path = os.path.join(val_face_dir,img)\n",
    "        img = cv2.resize(cv2.imread(path,cv2.IMREAD_GRAYSCALE),(IMG_SIZE,IMG_SIZE))\n",
    "        img=img/255\n",
    "        data_npy.append([np.array(img),np.array(label)])\n",
    "        \n",
    "        \n",
    "    for img in tqdm(os.listdir(val_mask_dir)):\n",
    "        label = [1,0]\n",
    "        path = os.path.join(val_mask_dir,img)\n",
    "        img = cv2.resize(cv2.imread(path,cv2.IMREAD_GRAYSCALE),(IMG_SIZE,IMG_SIZE))\n",
    "        img=img/255\n",
    "        data_npy.append([np.array(img),np.array(label)])\n",
    "    "
   ]
  },
  {
   "cell_type": "code",
   "execution_count": 56,
   "metadata": {},
   "outputs": [
    {
     "name": "stderr",
     "output_type": "stream",
     "text": [
      "100%|█████████████████████████████████████████████████████████████████████████████| 3213/3213 [00:19<00:00, 162.24it/s]\n",
      "100%|████████████████████████████████████████████████████████████████████████████| 1399/1399 [00:01<00:00, 1136.85it/s]\n",
      "100%|███████████████████████████████████████████████████████████████████████████████| 400/400 [00:00<00:00, 925.39it/s]\n",
      "100%|███████████████████████████████████████████████████████████████████████████████| 400/400 [00:00<00:00, 578.75it/s]\n"
     ]
    }
   ],
   "source": [
    "process_data()"
   ]
  },
  {
   "cell_type": "code",
   "execution_count": 57,
   "metadata": {},
   "outputs": [
    {
     "name": "stdout",
     "output_type": "stream",
     "text": [
      "5412\n"
     ]
    }
   ],
   "source": [
    "#shuffle(data_npy)\n",
    "print(len(data_npy))\n",
    "X = np.array([i[0] for i in data_npy]).reshape(-1,IMG_SIZE,IMG_SIZE,1)\n",
    "Y = np.array([i[1] for i in data_npy])"
   ]
  },
  {
   "cell_type": "code",
   "execution_count": 59,
   "metadata": {},
   "outputs": [
    {
     "name": "stdout",
     "output_type": "stream",
     "text": [
      "(5412, 50, 50, 1)\n"
     ]
    },
    {
     "data": {
      "image/png": "[encoded data removed]",
      "text/plain": [
       "<Figure size 432x288 with 1 Axes>"
      ]
     },
     "metadata": {
      "needs_background": "light"
     },
     "output_type": "display_data"
    },
    {
     "name": "stdout",
     "output_type": "stream",
     "text": [
      "[0 1]\n"
     ]
    }
   ],
   "source": [
    "f=3000\n",
    "print(X.shape)\n",
    "plt.imshow(X[f],cmap='gray')\n",
    "plt.show()\n",
    "#print(X[f])\n",
    "print(Y[f])"
   ]
  },
  {
   "cell_type": "code",
   "execution_count": 32,
   "metadata": {},
   "outputs": [],
   "source": [
    "import tensorflow as tf\n",
    "from tensorflow import keras\n",
    "from tensorflow.keras.models import Sequential\n",
    "from tensorflow.keras.layers import Activation,Dense,Conv2D,MaxPooling2D,BatchNormalization,Flatten,Dropout\n",
    "from tensorflow.keras.optimizers import Adam\n",
    "from tensorflow.keras.metrics import categorical_crossentropy"
   ]
  },
  {
   "cell_type": "code",
   "execution_count": 60,
   "metadata": {},
   "outputs": [
    {
     "name": "stdout",
     "output_type": "stream",
     "text": [
      "Model: \"sequential\"\n",
      "_________________________________________________________________\n",
      "Layer (type)                 Output Shape              Param #   \n",
      "=================================================================\n",
      "conv2d (Conv2D)              (None, 49, 49, 128)       640       \n",
      "_________________________________________________________________\n",
      "max_pooling2d (MaxPooling2D) (None, 24, 24, 128)       0         \n",
      "_________________________________________________________________\n",
      "batch_normalization (BatchNo (None, 24, 24, 128)       512       \n",
      "_________________________________________________________________\n",
      "dropout (Dropout)            (None, 24, 24, 128)       0         \n",
      "_________________________________________________________________\n",
      "conv2d_1 (Conv2D)            (None, 23, 23, 64)        32832     \n",
      "_________________________________________________________________\n",
      "max_pooling2d_1 (MaxPooling2 (None, 11, 11, 64)        0         \n",
      "_________________________________________________________________\n",
      "batch_normalization_1 (Batch (None, 11, 11, 64)        256       \n",
      "_________________________________________________________________\n",
      "dropout_1 (Dropout)          (None, 11, 11, 64)        0         \n",
      "_________________________________________________________________\n",
      "conv2d_2 (Conv2D)            (None, 10, 10, 64)        16448     \n",
      "_________________________________________________________________\n",
      "max_pooling2d_2 (MaxPooling2 (None, 5, 5, 64)          0         \n",
      "_________________________________________________________________\n",
      "batch_normalization_2 (Batch (None, 5, 5, 64)          256       \n",
      "_________________________________________________________________\n",
      "dropout_2 (Dropout)          (None, 5, 5, 64)          0         \n",
      "_________________________________________________________________\n",
      "conv2d_3 (Conv2D)            (None, 4, 4, 32)          8224      \n",
      "_________________________________________________________________\n",
      "batch_normalization_3 (Batch (None, 4, 4, 32)          128       \n",
      "_________________________________________________________________\n",
      "dropout_3 (Dropout)          (None, 4, 4, 32)          0         \n",
      "_________________________________________________________________\n",
      "flatten (Flatten)            (None, 512)               0         \n",
      "_________________________________________________________________\n",
      "dense (Dense)                (None, 64)                32832     \n",
      "_________________________________________________________________\n",
      "batch_normalization_4 (Batch (None, 64)                256       \n",
      "_________________________________________________________________\n",
      "dropout_4 (Dropout)          (None, 64)                0         \n",
      "_________________________________________________________________\n",
      "dense_1 (Dense)              (None, 32)                2080      \n",
      "_________________________________________________________________\n",
      "batch_normalization_5 (Batch (None, 32)                128       \n",
      "_________________________________________________________________\n",
      "dropout_5 (Dropout)          (None, 32)                0         \n",
      "_________________________________________________________________\n",
      "dense_2 (Dense)              (None, 32)                1056      \n",
      "_________________________________________________________________\n",
      "dense_3 (Dense)              (None, 2)                 66        \n",
      "=================================================================\n",
      "Total params: 95,714\n",
      "Trainable params: 94,946\n",
      "Non-trainable params: 768\n",
      "_________________________________________________________________\n"
     ]
    }
   ],
   "source": [
    "tf.compat.v1.reset_default_graph()\n",
    "tf.keras.backend.clear_session()\n",
    "model = Sequential([\n",
    "    Conv2D(128, (2,2), activation='relu',input_shape=(IMG_SIZE,IMG_SIZE,1)),\n",
    "    MaxPooling2D(pool_size=(2, 2)),\n",
    "    BatchNormalization(),\n",
    "    Dropout(0.4),\n",
    "    \n",
    "    Conv2D(64, (2,2), activation='relu'),\n",
    "    MaxPooling2D(pool_size=(2, 2)),\n",
    "    BatchNormalization(),\n",
    "    Dropout(0.4),\n",
    "    \n",
    "    Conv2D(64, (2,2), activation='relu'),\n",
    "    MaxPooling2D(pool_size=(2, 2)),\n",
    "    BatchNormalization(),\n",
    "    Dropout(0.4),\n",
    "    \n",
    "    Conv2D(32, (2,2), activation='relu'),\n",
    "    BatchNormalization(),\n",
    "    Dropout(0.4),\n",
    "    \n",
    "    Flatten(),\n",
    "    Dense(64, activation='relu'),\n",
    "    BatchNormalization(),\n",
    "    Dropout(0.4),\n",
    "    \n",
    "    Dense(32, activation='relu'),\n",
    "    BatchNormalization(),\n",
    "    Dropout(0.4),\n",
    "    \n",
    "    Dense(32, activation='relu'),\n",
    "    #BatchNormalization(),\n",
    "    \n",
    "    Dense(2, activation='softmax')\n",
    "])\n",
    "model.summary()\n",
    "model.compile(optimizer=Adam(learning_rate=0.0001), loss='categorical_crossentropy', metrics=['accuracy'])"
   ]
  },
  {
   "cell_type": "code",
   "execution_count": 76,
   "metadata": {},
   "outputs": [
    {
     "name": "stdout",
     "output_type": "stream",
     "text": [
      "Epoch 1/10\n",
      "143/143 [==============================] - 100s 697ms/step - loss: 0.3394 - accuracy: 0.8577 - val_loss: 1.0771 - val_accuracy: 0.5586\n",
      "Epoch 2/10\n",
      "143/143 [==============================] - 118s 824ms/step - loss: 0.3325 - accuracy: 0.8699 - val_loss: 1.0774 - val_accuracy: 0.5645\n",
      "Epoch 3/10\n",
      "143/143 [==============================] - 120s 838ms/step - loss: 0.3148 - accuracy: 0.8774 - val_loss: 0.9689 - val_accuracy: 0.5953\n",
      "Epoch 4/10\n",
      "143/143 [==============================] - 124s 867ms/step - loss: 0.3211 - accuracy: 0.8728 - val_loss: 0.9805 - val_accuracy: 0.5964\n",
      "Epoch 5/10\n",
      "143/143 [==============================] - 116s 812ms/step - loss: 0.3108 - accuracy: 0.8723 - val_loss: 0.9677 - val_accuracy: 0.6000\n",
      "Epoch 6/10\n",
      "143/143 [==============================] - 118s 824ms/step - loss: 0.3002 - accuracy: 0.8831 - val_loss: 0.9830 - val_accuracy: 0.6000\n",
      "Epoch 7/10\n",
      "143/143 [==============================] - 115s 806ms/step - loss: 0.2843 - accuracy: 0.8855 - val_loss: 0.9561 - val_accuracy: 0.6095\n",
      "Epoch 8/10\n",
      "143/143 [==============================] - 77s 535ms/step - loss: 0.2902 - accuracy: 0.8890 - val_loss: 0.7890 - val_accuracy: 0.6592\n",
      "Epoch 9/10\n",
      "143/143 [==============================] - 57s 399ms/step - loss: 0.2935 - accuracy: 0.8870 - val_loss: 0.8678 - val_accuracy: 0.6308\n",
      "Epoch 10/10\n",
      "143/143 [==============================] - 56s 392ms/step - loss: 0.2746 - accuracy: 0.8938 - val_loss: 1.0163 - val_accuracy: 0.6047\n"
     ]
    },
    {
     "data": {
      "text/plain": [
       "<tensorflow.python.keras.callbacks.History at 0x211607d2910>"
      ]
     },
     "execution_count": 76,
     "metadata": {},
     "output_type": "execute_result"
    }
   ],
   "source": [
    "model.fit(x=X, y=Y, validation_split=0.156, batch_size=32, epochs=10, shuffle=True,verbose=1)"
   ]
  },
  {
   "cell_type": "code",
   "execution_count": 63,
   "metadata": {},
   "outputs": [
    {
     "data": {
      "image/png": "[encoded data removed]",
      "text/plain": [
       "<Figure size 432x288 with 1 Axes>"
      ]
     },
     "metadata": {
      "needs_background": "light"
     },
     "output_type": "display_data"
    },
    {
     "name": "stdout",
     "output_type": "stream",
     "text": [
      "1/1 [==============================] - 0s 2ms/step\n"
     ]
    },
    {
     "data": {
      "text/plain": [
       "array([[0.96779966, 0.0322003 ]], dtype=float32)"
      ]
     },
     "execution_count": 63,
     "metadata": {},
     "output_type": "execute_result"
    }
   ],
   "source": [
    "inputTest = 'C:/Users/HP PC/Desktop/Folder/DeepLearning/faceBinary/sandynomask.jpg'\n",
    "image = cv2.resize(cv2.imread(inputTest,cv2.IMREAD_GRAYSCALE),(IMG_SIZE,IMG_SIZE))\n",
    "image=image/255\n",
    "#print(image)\n",
    "plt.imshow(image,cmap='gray')\n",
    "plt.show()\n",
    "#predict(model.predict(np.array(image).reshape(-1,IMG_SIZE,IMG_SIZE,1)))\n",
    "model.predict(np.array(image).reshape(-1,IMG_SIZE,IMG_SIZE,1),verbose=1)"
   ]
  },
  {
   "cell_type": "code",
   "execution_count": 64,
   "metadata": {},
   "outputs": [
    {
     "data": {
      "image/png": "[encoded data removed]",
      "text/plain": [
       "<Figure size 432x288 with 1 Axes>"
      ]
     },
     "metadata": {
      "needs_background": "light"
     },
     "output_type": "display_data"
    },
    {
     "name": "stdout",
     "output_type": "stream",
     "text": [
      "1/1 [==============================] - 0s 2ms/step\n"
     ]
    },
    {
     "data": {
      "text/plain": [
       "array([[0.44475138, 0.5552487 ]], dtype=float32)"
      ]
     },
     "execution_count": 64,
     "metadata": {},
     "output_type": "execute_result"
    }
   ],
   "source": [
    "inputTest = 'C:/Users/HP PC/Desktop/Folder/DeepLearning/faceBinary/Capture2.jpg'\n",
    "image = cv2.resize(cv2.imread(inputTest,cv2.IMREAD_GRAYSCALE),(IMG_SIZE,IMG_SIZE))\n",
    "image=image/255\n",
    "#print(image)\n",
    "plt.imshow(image,cmap='gray')\n",
    "plt.show()\n",
    "#predict(model.predict(np.array(image).reshape(-1,IMG_SIZE,IMG_SIZE,1)))\n",
    "model.predict(np.array(image).reshape(-1,IMG_SIZE,IMG_SIZE,1),verbose=1)"
   ]
  },
  {
   "cell_type": "code",
   "execution_count": 65,
   "metadata": {},
   "outputs": [
    {
     "data": {
      "image/png": "[encoded data removed]",
      "text/plain": [
       "<Figure size 432x288 with 1 Axes>"
      ]
     },
     "metadata": {
      "needs_background": "light"
     },
     "output_type": "display_data"
    },
    {
     "name": "stdout",
     "output_type": "stream",
     "text": [
      "1/1 [==============================] - 0s 996us/step\n"
     ]
    },
    {
     "data": {
      "text/plain": [
       "array([[0.13059656, 0.8694035 ]], dtype=float32)"
      ]
     },
     "execution_count": 65,
     "metadata": {},
     "output_type": "execute_result"
    }
   ],
   "source": [
    "inputTest = 'C:/Users/HP PC/Desktop/Folder/DeepLearning/faceBinary/Capture3.jpg'\n",
    "image = cv2.resize(cv2.imread(inputTest,cv2.IMREAD_GRAYSCALE),(IMG_SIZE,IMG_SIZE))\n",
    "image=image/255\n",
    "#print(image)\n",
    "plt.imshow(image,cmap='gray')\n",
    "plt.show()\n",
    "#predict(model.predict(np.array(image).reshape(-1,IMG_SIZE,IMG_SIZE,1)))\n",
    "model.predict(np.array(image).reshape(-1,IMG_SIZE,IMG_SIZE,1),verbose=1)"
   ]
  },
  {
   "cell_type": "code",
   "execution_count": 66,
   "metadata": {},
   "outputs": [
    {
     "data": {
      "image/png": "[encoded data removed]",
      "text/plain": [
       "<Figure size 432x288 with 1 Axes>"
      ]
     },
     "metadata": {
      "needs_background": "light"
     },
     "output_type": "display_data"
    },
    {
     "name": "stdout",
     "output_type": "stream",
     "text": [
      "1/1 [==============================] - 0s 5ms/step\n"
     ]
    },
    {
     "data": {
      "text/plain": [
       "array([[0.13370438, 0.8662956 ]], dtype=float32)"
      ]
     },
     "execution_count": 66,
     "metadata": {},
     "output_type": "execute_result"
    }
   ],
   "source": [
    "inputTest = 'C:/Users/HP PC/Desktop/Folder/DeepLearning/faceBinary/Capture4.jpg'\n",
    "image = cv2.resize(cv2.imread(inputTest,cv2.IMREAD_GRAYSCALE),(IMG_SIZE,IMG_SIZE))\n",
    "image=image/255\n",
    "#print(image)\n",
    "plt.imshow(image,cmap='gray')\n",
    "plt.show()\n",
    "#predict(model.predict(np.array(image).reshape(-1,IMG_SIZE,IMG_SIZE,1)))\n",
    "model.predict(np.array(image).reshape(-1,IMG_SIZE,IMG_SIZE,1),verbose=1)"
   ]
  },
  {
   "cell_type": "code",
   "execution_count": 67,
   "metadata": {},
   "outputs": [
    {
     "data": {
      "image/png": "[encoded data removed]",
      "text/plain": [
       "<Figure size 432x288 with 1 Axes>"
      ]
     },
     "metadata": {
      "needs_background": "light"
     },
     "output_type": "display_data"
    },
    {
     "name": "stdout",
     "output_type": "stream",
     "text": [
      "1/1 [==============================] - 0s 997us/step\n"
     ]
    },
    {
     "data": {
      "text/plain": [
       "array([[0.19780894, 0.802191  ]], dtype=float32)"
      ]
     },
     "execution_count": 67,
     "metadata": {},
     "output_type": "execute_result"
    }
   ],
   "source": [
    "inputTest = 'C:/Users/HP PC/Desktop/Folder/DeepLearning/faceBinary/Capture5.jpg'\n",
    "image = cv2.resize(cv2.imread(inputTest,cv2.IMREAD_GRAYSCALE),(IMG_SIZE,IMG_SIZE))\n",
    "image=image/255\n",
    "#print(image)\n",
    "plt.imshow(image,cmap='gray')\n",
    "plt.show()\n",
    "#predict(model.predict(np.array(image).reshape(-1,IMG_SIZE,IMG_SIZE,1)))\n",
    "model.predict(np.array(image).reshape(-1,IMG_SIZE,IMG_SIZE,1),verbose=1)"
   ]
  },
  {
   "cell_type": "code",
   "execution_count": 68,
   "metadata": {},
   "outputs": [
    {
     "data": {
      "image/png": "[encoded data removed]",
      "text/plain": [
       "<Figure size 432x288 with 1 Axes>"
      ]
     },
     "metadata": {
      "needs_background": "light"
     },
     "output_type": "display_data"
    },
    {
     "name": "stdout",
     "output_type": "stream",
     "text": [
      "1/1 [==============================] - 0s 999us/step\n"
     ]
    },
    {
     "data": {
      "text/plain": [
       "array([[0.26477808, 0.7352219 ]], dtype=float32)"
      ]
     },
     "execution_count": 68,
     "metadata": {},
     "output_type": "execute_result"
    }
   ],
   "source": [
    "inputTest = 'C:/Users/HP PC/Desktop/Folder/DeepLearning/faceBinary/Capture6.jpg'\n",
    "image = cv2.resize(cv2.imread(inputTest,cv2.IMREAD_GRAYSCALE),(IMG_SIZE,IMG_SIZE))\n",
    "image=image/255\n",
    "#print(image)\n",
    "plt.imshow(image,cmap='gray')\n",
    "plt.show()\n",
    "#predict(model.predict(np.array(image).reshape(-1,IMG_SIZE,IMG_SIZE,1)))\n",
    "model.predict(np.array(image).reshape(-1,IMG_SIZE,IMG_SIZE,1),verbose=1)"
   ]
  },
  {
   "cell_type": "code",
   "execution_count": 69,
   "metadata": {},
   "outputs": [
    {
     "data": {
      "image/png": "[encoded data removed]",
      "text/plain": [
       "<Figure size 432x288 with 1 Axes>"
      ]
     },
     "metadata": {
      "needs_background": "light"
     },
     "output_type": "display_data"
    },
    {
     "name": "stdout",
     "output_type": "stream",
     "text": [
      "1/1 [==============================] - 0s 998us/step\n"
     ]
    },
    {
     "data": {
      "text/plain": [
       "array([[0.07805292, 0.92194706]], dtype=float32)"
      ]
     },
     "execution_count": 69,
     "metadata": {},
     "output_type": "execute_result"
    }
   ],
   "source": [
    "inputTest = 'C:/Users/HP PC/Desktop/Folder/DeepLearning/faceBinary/Capture7.jpg'\n",
    "image = cv2.resize(cv2.imread(inputTest,cv2.IMREAD_GRAYSCALE),(IMG_SIZE,IMG_SIZE))\n",
    "image=image/255\n",
    "#print(image)\n",
    "plt.imshow(image,cmap='gray')\n",
    "plt.show()\n",
    "#predict(model.predict(np.array(image).reshape(-1,IMG_SIZE,IMG_SIZE,1)))\n",
    "model.predict(np.array(image).reshape(-1,IMG_SIZE,IMG_SIZE,1),verbose=1)"
   ]
  },
  {
   "cell_type": "code",
   "execution_count": 70,
   "metadata": {},
   "outputs": [
    {
     "data": {
      "image/png": "[encoded data removed]",
      "text/plain": [
       "<Figure size 432x288 with 1 Axes>"
      ]
     },
     "metadata": {
      "needs_background": "light"
     },
     "output_type": "display_data"
    },
    {
     "name": "stdout",
     "output_type": "stream",
     "text": [
      "1/1 [==============================] - 0s 995us/step\n"
     ]
    },
    {
     "data": {
      "text/plain": [
       "array([[0.20606232, 0.7939377 ]], dtype=float32)"
      ]
     },
     "execution_count": 70,
     "metadata": {},
     "output_type": "execute_result"
    }
   ],
   "source": [
    "inputTest = 'C:/Users/HP PC/Desktop/Folder/DeepLearning/faceBinary/Capture8.jpg'\n",
    "image = cv2.resize(cv2.imread(inputTest,cv2.IMREAD_GRAYSCALE),(IMG_SIZE,IMG_SIZE))\n",
    "image=image/255\n",
    "#print(image)\n",
    "plt.imshow(image,cmap='gray')\n",
    "plt.show()\n",
    "#predict(model.predict(np.array(image).reshape(-1,IMG_SIZE,IMG_SIZE,1)))\n",
    "model.predict(np.array(image).reshape(-1,IMG_SIZE,IMG_SIZE,1),verbose=1)"
   ]
  },
  {
   "cell_type": "code",
   "execution_count": 71,
   "metadata": {},
   "outputs": [
    {
     "data": {
      "image/png": "[encoded data removed]",
      "text/plain": [
       "<Figure size 432x288 with 1 Axes>"
      ]
     },
     "metadata": {
      "needs_background": "light"
     },
     "output_type": "display_data"
    },
    {
     "name": "stdout",
     "output_type": "stream",
     "text": [
      "1/1 [==============================] - 0s 999us/step\n"
     ]
    },
    {
     "data": {
      "text/plain": [
       "array([[0.9400397 , 0.05996024]], dtype=float32)"
      ]
     },
     "execution_count": 71,
     "metadata": {},
     "output_type": "execute_result"
    }
   ],
   "source": [
    "inputTest = 'C:/Users/HP PC/Desktop/Folder/DeepLearning/faceBinary/Capture9.jpg'\n",
    "image = cv2.resize(cv2.imread(inputTest,cv2.IMREAD_GRAYSCALE),(IMG_SIZE,IMG_SIZE))\n",
    "image=image/255\n",
    "#print(image)\n",
    "plt.imshow(image,cmap='gray')\n",
    "plt.show()\n",
    "#predict(model.predict(np.array(image).reshape(-1,IMG_SIZE,IMG_SIZE,1)))\n",
    "model.predict(np.array(image).reshape(-1,IMG_SIZE,IMG_SIZE,1),verbose=1)"
   ]
  },
  {
   "cell_type": "code",
   "execution_count": 72,
   "metadata": {},
   "outputs": [
    {
     "data": {
      "image/png": "[encoded data removed]",
      "text/plain": [
       "<Figure size 432x288 with 1 Axes>"
      ]
     },
     "metadata": {
      "needs_background": "light"
     },
     "output_type": "display_data"
    },
    {
     "name": "stdout",
     "output_type": "stream",
     "text": [
      "1/1 [==============================] - 0s 991us/step\n"
     ]
    },
    {
     "data": {
      "text/plain": [
       "array([[0.7853881, 0.2146119]], dtype=float32)"
      ]
     },
     "execution_count": 72,
     "metadata": {},
     "output_type": "execute_result"
    }
   ],
   "source": [
    "inputTest = 'C:/Users/HP PC/Desktop/Folder/DeepLearning/faceBinary/Capture10.jpg'\n",
    "image = cv2.resize(cv2.imread(inputTest,cv2.IMREAD_GRAYSCALE),(IMG_SIZE,IMG_SIZE))\n",
    "image=image/255\n",
    "#print(image)\n",
    "plt.imshow(image,cmap='gray')\n",
    "plt.show()\n",
    "#predict(model.predict(np.array(image).reshape(-1,IMG_SIZE,IMG_SIZE,1)))\n",
    "model.predict(np.array(image).reshape(-1,IMG_SIZE,IMG_SIZE,1),verbose=1)"
   ]
  },
  {
   "cell_type": "code",
   "execution_count": 73,
   "metadata": {},
   "outputs": [
    {
     "data": {
      "image/png": "[encoded data removed]",
      "text/plain": [
       "<Figure size 432x288 with 1 Axes>"
      ]
     },
     "metadata": {
      "needs_background": "light"
     },
     "output_type": "display_data"
    },
    {
     "name": "stdout",
     "output_type": "stream",
     "text": [
      "1/1 [==============================] - 0s 996us/step\n"
     ]
    },
    {
     "data": {
      "text/plain": [
       "array([[0.63942325, 0.36057675]], dtype=float32)"
      ]
     },
     "execution_count": 73,
     "metadata": {},
     "output_type": "execute_result"
    }
   ],
   "source": [
    "inputTest = 'C:/Users/HP PC/Desktop/Folder/DeepLearning/faceBinary/Capture11.jpg'\n",
    "image = cv2.resize(cv2.imread(inputTest,cv2.IMREAD_GRAYSCALE),(IMG_SIZE,IMG_SIZE))\n",
    "image=image/255\n",
    "#print(image)\n",
    "plt.imshow(image,cmap='gray')\n",
    "plt.show()\n",
    "#predict(model.predict(np.array(image).reshape(-1,IMG_SIZE,IMG_SIZE,1)))\n",
    "model.predict(np.array(image).reshape(-1,IMG_SIZE,IMG_SIZE,1),verbose=1)"
   ]
  },
  {
   "cell_type": "code",
   "execution_count": 75,
   "metadata": {},
   "outputs": [
    {
     "data": {
      "image/png": "[encoded data removed]",
      "text/plain": [
       "<Figure size 432x288 with 1 Axes>"
      ]
     },
     "metadata": {
      "needs_background": "light"
     },
     "output_type": "display_data"
    },
    {
     "name": "stdout",
     "output_type": "stream",
     "text": [
      "1/1 [==============================] - 0s 985us/step\n"
     ]
    },
    {
     "data": {
      "text/plain": [
       "array([[0.37090647, 0.62909347]], dtype=float32)"
      ]
     },
     "execution_count": 75,
     "metadata": {},
     "output_type": "execute_result"
    }
   ],
   "source": [
    "inputTest = 'C:/Users/HP PC/Desktop/Folder/DeepLearning/faceBinary/Capture12.jpg'\n",
    "image = cv2.resize(cv2.imread(inputTest,cv2.IMREAD_GRAYSCALE),(IMG_SIZE,IMG_SIZE))\n",
    "image=image/255\n",
    "#print(image)\n",
    "plt.imshow(image,cmap='gray')\n",
    "plt.show()\n",
    "#predict(model.predict(np.array(image).reshape(-1,IMG_SIZE,IMG_SIZE,1)))\n",
    "model.predict(np.array(image).reshape(-1,IMG_SIZE,IMG_SIZE,1),verbose=1)"
   ]
  },
  {
   "cell_type": "code",
   "execution_count": null,
   "metadata": {},
   "outputs": [],
   "source": []
  },
  {
   "cell_type": "code",
   "execution_count": null,
   "metadata": {},
   "outputs": [],
   "source": []
  }
 ],
 "metadata": {
  "kernelspec": {
   "display_name": "Python 3",
   "language": "python",
   "name": "python3"
  },
  "language_info": {
   "codemirror_mode": {
    "name": "ipython",
    "version": 3
   },
   "file_extension": ".py",
   "mimetype": "text/x-python",
   "name": "python",
   "nbconvert_exporter": "python",
   "pygments_lexer": "ipython3",
   "version": "3.8.5"
  }
 },
 "nbformat": 4,
 "nbformat_minor": 4
}
