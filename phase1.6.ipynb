{
 "cells": [
  {
   "cell_type": "code",
   "execution_count": 42,
   "metadata": {},
   "outputs": [],
   "source": [
    "import cv2\n",
    "import numpy as np\n",
    "import os\n",
    "import matplotlib.pyplot as plt\n",
    "from random import shuffle\n",
    "from tqdm import tqdm\n",
    "from shutil import copyfile"
   ]
  },
  {
   "cell_type": "code",
   "execution_count": 43,
   "metadata": {},
   "outputs": [],
   "source": [
    "IMG_SIZE = 50\n",
    "LR = 1e-3\n",
    "MODEL_NAME = \"faceMaskBinary--{}--{}.model\".format(LR, '6conv-JPY2')\n",
    "x=0"
   ]
  },
  {
   "cell_type": "code",
   "execution_count": 44,
   "metadata": {},
   "outputs": [],
   "source": [
    "def Extract_Unmasked_data1():\n",
    "    global x\n",
    "    f_dir = 'C:/Users/HP PC/Desktop/Folder/DeepLearning/faceBinary/Dataset/1/AFDB_face_dataset/AFDB_face_dataset'\n",
    "    d_dir = 'C:/Users/HP PC/Desktop/Folder/DeepLearning/faceBinary/processedData/face'\n",
    "    for folder in tqdm(os.listdir(f_dir)):\n",
    "        path = os.path.join(f_dir,folder)\n",
    "        y=0\n",
    "        for img in os.listdir(path):\n",
    "            if y>=8: # To make neural net more robust we took only 10 pictures from each person\n",
    "                break\n",
    "            if x>=4000: # extracted only 4000 unmasked imgaes because only 1400 masked images exits\n",
    "                break\n",
    "            if y%2 == 0:\n",
    "                y+=1\n",
    "                continue\n",
    "            fpath = os.path.join(path,img)\n",
    "            dpath = os.path.join(d_dir,str(x)+'.jpg')\n",
    "            copyfile(fpath, dpath)\n",
    "            x+=1\n",
    "            y+=1"
   ]
  },
  {
   "cell_type": "code",
   "execution_count": 45,
   "metadata": {},
   "outputs": [],
   "source": [
    "def Extract_Masked_data1():\n",
    "    global x\n",
    "    f_dir = 'C:/Users/HP PC/Desktop/Folder/DeepLearning/faceBinary/Dataset/1/AFDB_masked_face_dataset/AFDB_masked_face_dataset'\n",
    "    d_dir = 'C:/Users/HP PC/Desktop/Folder/DeepLearning/faceBinary/processedData/mask'\n",
    "    for folder in tqdm(os.listdir(f_dir)):\n",
    "        path = os.path.join(f_dir,folder)\n",
    "        for img in os.listdir(path):\n",
    "            fpath = os.path.join(path,img)\n",
    "            dpath = os.path.join(d_dir,str(x)+'.jpg')\n",
    "            copyfile(fpath, dpath)\n",
    "            x+=1"
   ]
  },
  {
   "cell_type": "code",
   "execution_count": 46,
   "metadata": {},
   "outputs": [],
   "source": [
    "def Extract_Unmasked_data2():\n",
    "    global x\n",
    "    f_dir = 'C:/Users/HP PC/Desktop/Folder/DeepLearning/faceBinary/Dataset/2/without_mask'\n",
    "    d_dir = 'C:/Users/HP PC/Desktop/Folder/DeepLearning/faceBinary/processedData/face'\n",
    "    for img in tqdm(os.listdir(f_dir)):\n",
    "        fpath = os.path.join(f_dir,img)\n",
    "        dpath = os.path.join(d_dir,str(x)+'.png')\n",
    "        copyfile(fpath, dpath)\n",
    "        x+=1"
   ]
  },
  {
   "cell_type": "code",
   "execution_count": 47,
   "metadata": {},
   "outputs": [],
   "source": [
    "def Extract_Masked_data2():\n",
    "    global x\n",
    "    f_dir = 'C:/Users/HP PC/Desktop/Folder/DeepLearning/faceBinary/Dataset/2/with_mask'\n",
    "    d_dir = 'C:/Users/HP PC/Desktop/Folder/DeepLearning/faceBinary/processedData/mask'\n",
    "    for img in tqdm(os.listdir(f_dir)):\n",
    "        fpath = os.path.join(f_dir,img)            \n",
    "        dpath = os.path.join(d_dir,str(x)+'.png')\n",
    "        copyfile(fpath, dpath)\n",
    "        x+=1"
   ]
  },
  {
   "cell_type": "code",
   "execution_count": 48,
   "metadata": {},
   "outputs": [],
   "source": [
    "def Extract_Unmasked_data3():\n",
    "    global x\n",
    "    f_dir = 'C:/Users/HP PC/Desktop/Folder/DeepLearning/faceBinary/Dataset/3/WithoutMask'\n",
    "    d_dir = 'C:/Users/HP PC/Desktop/Folder/DeepLearning/faceBinary/processedData/face'\n",
    "    for img in tqdm(os.listdir(f_dir)):\n",
    "        fpath = os.path.join(f_dir,img)\n",
    "        dpath = os.path.join(d_dir,str(x)+'.png')\n",
    "        copyfile(fpath, dpath)\n",
    "        x+=1"
   ]
  },
  {
   "cell_type": "code",
   "execution_count": 49,
   "metadata": {},
   "outputs": [],
   "source": [
    "def Extract_Masked_data3():\n",
    "    global x\n",
    "    f_dir = 'C:/Users/HP PC/Desktop/Folder/DeepLearning/faceBinary/Dataset/3/WithMask'\n",
    "    d_dir = 'C:/Users/HP PC/Desktop/Folder/DeepLearning/faceBinary/processedData/mask'\n",
    "    for img in tqdm(os.listdir(f_dir)):\n",
    "        fpath = os.path.join(f_dir,img)            \n",
    "        dpath = os.path.join(d_dir,str(x)+'.png')\n",
    "        copyfile(fpath, dpath)\n",
    "        x+=1"
   ]
  },
  {
   "cell_type": "code",
   "execution_count": 50,
   "metadata": {},
   "outputs": [
    {
     "name": "stderr",
     "output_type": "stream",
     "text": [
      "100%|████████████████████████████████████████████████████████████████████████████████| 460/460 [00:04<00:00, 97.41it/s]\n",
      "100%|███████████████████████████████████████████████████████████████████████████████| 220/220 [00:00<00:00, 388.16it/s]\n",
      "100%|█████████████████████████████████████████████████████████████████████████████| 4999/4999 [00:41<00:00, 119.37it/s]\n",
      "100%|████████████████████████████████████████████████████████████████████████████████| 378/378 [00:31<00:00, 11.89it/s]\n",
      "100%|████████████████████████████████████████████████████████████████████████████████| 220/220 [00:13<00:00, 16.04it/s]\n",
      "100%|█████████████████████████████████████████████████████████████████████████████| 5000/5000 [00:38<00:00, 131.30it/s]\n"
     ]
    }
   ],
   "source": [
    "Extract_Unmasked_data1()\n",
    "Extract_Unmasked_data2()\n",
    "Extract_Unmasked_data3()\n",
    "Extract_Masked_data1()\n",
    "Extract_Masked_data2()\n",
    "Extract_Masked_data3()"
   ]
  },
  {
   "cell_type": "code",
   "execution_count": 51,
   "metadata": {},
   "outputs": [],
   "source": [
    "def predict(a):\n",
    "    if a[0][0]>a[0][1]:\n",
    "        print(\"Mask Detected\")\n",
    "    else:\n",
    "        print('No Mask Detected')"
   ]
  },
  {
   "cell_type": "code",
   "execution_count": 54,
   "metadata": {},
   "outputs": [],
   "source": [
    "data_face = 'C:/Users/HP PC/Desktop/Folder/DeepLearning/faceBinary/processedData/face'\n",
    "data_mask = 'C:/Users/HP PC/Desktop/Folder/DeepLearning/faceBinary/processedData/mask'\n",
    "data_npy = []\n",
    "def process_data():\n",
    "    for img in tqdm(os.listdir(data_face)):\n",
    "        label = [0,1]\n",
    "        path = os.path.join(data_face,img)\n",
    "        img = cv2.resize(cv2.imread(path,cv2.IMREAD_GRAYSCALE),(IMG_SIZE,IMG_SIZE))\n",
    "        img=img/255\n",
    "        data_npy.append([np.array(img),np.array(label)])\n",
    "    for img in tqdm(os.listdir(data_mask)):\n",
    "        label = [1,0]\n",
    "        path = os.path.join(data_mask,img)\n",
    "        img = cv2.resize(cv2.imread(path,cv2.IMREAD_GRAYSCALE),(IMG_SIZE,IMG_SIZE))\n",
    "        img=img/255\n",
    "        data_npy.append([np.array(img),np.array(label)])\n",
    "    shuffle(data_npy)\n",
    "    #np.save(\"data.npy\",data_npy)"
   ]
  },
  {
   "cell_type": "code",
   "execution_count": 55,
   "metadata": {},
   "outputs": [
    {
     "name": "stderr",
     "output_type": "stream",
     "text": [
      "100%|█████████████████████████████████████████████████████████████████████████████| 7059/7059 [00:50<00:00, 140.31it/s]\n",
      "100%|█████████████████████████████████████████████████████████████████████████████| 6619/6619 [00:40<00:00, 162.52it/s]\n"
     ]
    }
   ],
   "source": [
    "process_data()"
   ]
  },
  {
   "cell_type": "code",
   "execution_count": 56,
   "metadata": {},
   "outputs": [
    {
     "name": "stdout",
     "output_type": "stream",
     "text": [
      "WARNING:tensorflow:From C:\\miniconda3\\envs\\dlenv\\lib\\site-packages\\tensorflow\\python\\compat\\v2_compat.py:61: disable_resource_variables (from tensorflow.python.ops.variable_scope) is deprecated and will be removed in a future version.\n",
      "Instructions for updating:\n",
      "non-resource variables are not supported in the long term\n",
      "curses is not supported on this machine (please install/reinstall curses for an optimal experience)\n",
      "Scipy not supported!\n",
      "WARNING:tensorflow:From C:\\miniconda3\\envs\\dlenv\\lib\\site-packages\\tflearn\\initializations.py:110: calling UniformUnitScaling.__init__ (from tensorflow.python.ops.init_ops) with dtype is deprecated and will be removed in a future version.\n",
      "Instructions for updating:\n",
      "Call initializer instance with the dtype argument instead of passing it to the constructor\n",
      "WARNING:tensorflow:From C:\\miniconda3\\envs\\dlenv\\lib\\site-packages\\tensorflow\\python\\util\\deprecation.py:507: UniformUnitScaling.__init__ (from tensorflow.python.ops.init_ops) is deprecated and will be removed in a future version.\n",
      "Instructions for updating:\n",
      "Use tf.initializers.variance_scaling instead with distribution=uniform to get equivalent behavior.\n",
      "WARNING:tensorflow:From C:\\miniconda3\\envs\\dlenv\\lib\\site-packages\\tflearn\\initializations.py:165: calling TruncatedNormal.__init__ (from tensorflow.python.ops.init_ops) with dtype is deprecated and will be removed in a future version.\n",
      "Instructions for updating:\n",
      "Call initializer instance with the dtype argument instead of passing it to the constructor\n",
      "WARNING:tensorflow:From C:\\miniconda3\\envs\\dlenv\\lib\\site-packages\\tflearn\\layers\\core.py:247: calling dropout (from tensorflow.python.ops.nn_ops) with keep_prob is deprecated and will be removed in a future version.\n",
      "Instructions for updating:\n",
      "Please use `rate` instead of `keep_prob`. Rate should be set to `rate = 1 - keep_prob`.\n",
      "WARNING:tensorflow:From C:\\miniconda3\\envs\\dlenv\\lib\\site-packages\\tensorflow\\python\\ops\\math_grad.py:1250: add_dispatch_support.<locals>.wrapper (from tensorflow.python.ops.array_ops) is deprecated and will be removed in a future version.\n",
      "Instructions for updating:\n",
      "Use tf.where in 2.0, which has the same broadcast rule as np.where\n"
     ]
    }
   ],
   "source": [
    "import tflearn\n",
    "from tflearn.layers.conv import conv_2d, max_pool_2d\n",
    "from tflearn.layers.core import input_data, dropout, fully_connected\n",
    "from tflearn.layers.estimator import regression\n",
    "\n",
    "import tensorflow as tf\n",
    "tf.reset_default_graph()\n",
    "\n",
    "convnet = input_data(shape=[None, IMG_SIZE, IMG_SIZE, 1], name='input')\n",
    "\n",
    "convnet = conv_2d(convnet, 32, 3, activation='relu')\n",
    "convnet = max_pool_2d(convnet, 2)\n",
    "\n",
    "convnet = conv_2d(convnet, 32, 3, activation='relu')\n",
    "convnet = max_pool_2d(convnet, 2)\n",
    "\n",
    "convnet = conv_2d(convnet, 64, 3, activation='relu')\n",
    "convnet = max_pool_2d(convnet, 2)\n",
    "\n",
    "convnet = conv_2d(convnet, 64, 3, activation='relu')\n",
    "convnet = max_pool_2d(convnet, 2)\n",
    "\n",
    "convnet = conv_2d(convnet, 64, 3, activation='relu')\n",
    "convnet = max_pool_2d(convnet, 2)\n",
    "\n",
    "convnet = fully_connected(convnet, 1024, activation='relu')\n",
    "convnet = dropout(convnet, 0.5)\n",
    "\n",
    "convnet = fully_connected(convnet, 2, activation='softmax')\n",
    "convnet = regression(convnet, optimizer='adam', learning_rate=LR, loss='categorical_crossentropy', name='targets')\n",
    "\n",
    "model = tflearn.DNN(convnet, tensorboard_dir='log')"
   ]
  },
  {
   "cell_type": "code",
   "execution_count": 57,
   "metadata": {},
   "outputs": [],
   "source": [
    "train = data_npy[:-1000]\n",
    "test = data_npy[-1000:]\n",
    "\n",
    "X = np.array([i[0] for i in train]).reshape(-1,IMG_SIZE,IMG_SIZE,1)\n",
    "Y = [i[1] for i in train]\n",
    "\n",
    "test_x = np.array([i[0] for i in test]).reshape(-1,IMG_SIZE,IMG_SIZE,1)\n",
    "test_y = [i[1] for i in test]"
   ]
  },
  {
   "cell_type": "code",
   "execution_count": 69,
   "metadata": {},
   "outputs": [
    {
     "name": "stdout",
     "output_type": "stream",
     "text": [
      "Training Step: 1989  | total loss: \u001b[1m\u001b[32m0.00485\u001b[0m\u001b[0m | time: 38.577s\n",
      "| Adam | epoch: 010 | loss: 0.00485 - acc: 0.9994 -- iter: 12672/12678\n",
      "Training Step: 1990  | total loss: \u001b[1m\u001b[32m0.00448\u001b[0m\u001b[0m | time: 39.780s\n",
      "| Adam | epoch: 010 | loss: 0.00448 - acc: 0.9995 | val_loss: 0.08548 - val_acc: 0.9840 -- iter: 12678/12678\n",
      "--\n"
     ]
    }
   ],
   "source": [
    "model.fit({'input': X}, {'targets': Y}, n_epoch=5, validation_set=({'input': test_x}, {'targets': test_y}), \n",
    "    snapshot_step=500, show_metric=True, run_id=MODEL_NAME)"
   ]
  },
  {
   "cell_type": "code",
   "execution_count": 94,
   "metadata": {},
   "outputs": [
    {
     "data": {
      "image/png": "[encoded data removed]",
      "text/plain": [
       "<Figure size 432x288 with 1 Axes>"
      ]
     },
     "metadata": {
      "needs_background": "light"
     },
     "output_type": "display_data"
    },
    {
     "name": "stdout",
     "output_type": "stream",
     "text": [
      "Mask Detected\n"
     ]
    },
    {
     "data": {
      "text/plain": [
       "array([[0.9850427, 0.0149573]], dtype=float32)"
      ]
     },
     "execution_count": 94,
     "metadata": {},
     "output_type": "execute_result"
    }
   ],
   "source": [
    "inputTest = 'C:/Users/HP PC/Desktop/Folder/DeepLearning/faceBinary/sandynomask.jpg'\n",
    "image = cv2.resize(cv2.imread(inputTest,cv2.IMREAD_GRAYSCALE),(IMG_SIZE,IMG_SIZE))\n",
    "image=image/255\n",
    "#print(image)\n",
    "plt.imshow(image,cmap='gray')\n",
    "plt.show()\n",
    "predict(model.predict(np.array(image).reshape(-1,IMG_SIZE,IMG_SIZE,1)))\n",
    "model.predict(np.array(image).reshape(-1,IMG_SIZE,IMG_SIZE,1))"
   ]
  },
  {
   "cell_type": "code",
   "execution_count": 96,
   "metadata": {},
   "outputs": [
    {
     "data": {
      "image/png": "[encoded data removed]",
      "text/plain": [
       "<Figure size 432x288 with 1 Axes>"
      ]
     },
     "metadata": {
      "needs_background": "light"
     },
     "output_type": "display_data"
    },
    {
     "name": "stdout",
     "output_type": "stream",
     "text": [
      "Mask Detected\n"
     ]
    },
    {
     "data": {
      "text/plain": [
       "array([[9.9941266e-01, 5.8733358e-04]], dtype=float32)"
      ]
     },
     "execution_count": 96,
     "metadata": {},
     "output_type": "execute_result"
    }
   ],
   "source": [
    "inputTest = 'C:/Users/HP PC/Desktop/Folder/DeepLearning/faceBinary/Capture5.jpg'\n",
    "image = cv2.resize(cv2.imread(inputTest,cv2.IMREAD_GRAYSCALE),(IMG_SIZE,IMG_SIZE))\n",
    "image=image/255\n",
    "plt.imshow(image,cmap='gray')\n",
    "plt.show()\n",
    "predict(model.predict(np.array(image).reshape(-1,IMG_SIZE,IMG_SIZE,1)))\n",
    "model.predict(np.array(image).reshape(-1,IMG_SIZE,IMG_SIZE,1))"
   ]
  },
  {
   "cell_type": "code",
   "execution_count": null,
   "metadata": {},
   "outputs": [],
   "source": []
  }
 ],
 "metadata": {
  "kernelspec": {
   "display_name": "Python 3",
   "language": "python",
   "name": "python3"
  },
  "language_info": {
   "codemirror_mode": {
    "name": "ipython",
    "version": 3
   },
   "file_extension": ".py",
   "mimetype": "text/x-python",
   "name": "python",
   "nbconvert_exporter": "python",
   "pygments_lexer": "ipython3",
   "version": "3.8.5"
  }
 },
 "nbformat": 4,
 "nbformat_minor": 4
}
